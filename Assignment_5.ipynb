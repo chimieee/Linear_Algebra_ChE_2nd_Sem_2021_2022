{
  "nbformat": 4,
  "nbformat_minor": 0,
  "metadata": {
    "colab": {
      "name": "Assignment 5",
      "provenance": [],
      "collapsed_sections": [],
      "authorship_tag": "ABX9TyPA5bvhkqtjoBuIrE4Et8uz",
      "include_colab_link": true
    },
    "kernelspec": {
      "name": "python3",
      "display_name": "Python 3"
    },
    "language_info": {
      "name": "python"
    }
  },
  "cells": [
    {
      "cell_type": "markdown",
      "metadata": {
        "id": "view-in-github",
        "colab_type": "text"
      },
      "source": [
        "<a href=\"https://colab.research.google.com/github/chimieee/Linear_Algebra_ChE_2nd_Sem_2021_2022/blob/main/Assignment_5.ipynb\" target=\"_parent\"><img src=\"https://colab.research.google.com/assets/colab-badge.svg\" alt=\"Open In Colab\"/></a>"
      ]
    },
    {
      "cell_type": "markdown",
      "source": [
        "# Linear Algebra for ECE\n",
        "## Laboratory 6 : Matrix Operations"
      ],
      "metadata": {
        "id": "RGvkL61qDVJ-"
      }
    },
    {
      "cell_type": "markdown",
      "source": [
        "#Discussion"
      ],
      "metadata": {
        "id": "i6_zbQMkDaJj"
      }
    },
    {
      "cell_type": "markdown",
      "source": [
        "Now that you have a fundamental knowledge about representing and operating with vectors as well as the fundamentals of matrices, we'll try to the same operations with matrices and even more. = paraphrase = "
      ],
      "metadata": {
        "id": "sG0SQJYhDmyj"
      }
    },
    {
      "cell_type": "markdown",
      "source": [
        "### Objectives\n",
        "At the end of this activity you will be able to:\n",
        "1. Be familiar with the fundamental matrix operations.\n",
        "2. Apply the operations to solve intemrediate equations.\n",
        "3. Apply matrix algebra in engineering solutions."
      ],
      "metadata": {
        "id": "gWmeS13QDooD"
      }
    },
    {
      "cell_type": "code",
      "source": [
        "import numpy as np\n",
        "import matplotlib.pyplot as plt\n",
        "%matplotlib inline"
      ],
      "metadata": {
        "id": "uKrq4YfgDqTk"
      },
      "execution_count": 2,
      "outputs": []
    },
    {
      "cell_type": "markdown",
      "source": [
        "# Transposition"
      ],
      "metadata": {
        "id": "HjO4JoZZDr2r"
      }
    },
    {
      "cell_type": "markdown",
      "source": [
        "One of the fundamental operations in matrix algebra is Transposition. The transpose of a matrix is done by flipping the values of its elements over its diagonals. With this, the rows and columns from the original matrix will be switched. So for a matrix $A$ its transpose is denoted as $A^T$. So for example: =paraphrase= "
      ],
      "metadata": {
        "id": "7cFxfLFSDtrr"
      }
    },
    {
      "cell_type": "markdown",
      "source": [
        ":$$\n",
        "A=\\begin{bmatrix} 1 & 2 & 3 & 4 \\\\1 & -2 & -3 & 4 \\\\ 5 & 6 & 7 & 8 \\\\ 9 & 0 & 8 & -3\\end{bmatrix} \\\\\n",
        "$$"
      ],
      "metadata": {
        "id": "Q8dYrHK5Dwka"
      }
    },
    {
      "cell_type": "markdown",
      "source": [
        "$$ A^T = \\begin{bmatrix} 1 & 1 & 5 & 9 \\\\2 & -2 & -3 & 4 \\\\ 3 & -3 & 7 & 8 \\\\ 4 & 4 & 8 & -3\\end{bmatrix}$$"
      ],
      "metadata": {
        "id": "gPfARCblDxAL"
      }
    },
    {
      "cell_type": "markdown",
      "source": [
        "This can now be achieved programmatically by using `np.transpose()` or using the `T` method."
      ],
      "metadata": {
        "id": "0qgoIVoWD0iq"
      }
    },
    {
      "cell_type": "code",
      "source": [
        "A = np. array([\n",
        "    [1, 2, 5],\n",
        "    [5, -1, 0],\n",
        "    [0, -3, 3]\n",
        "])"
      ],
      "metadata": {
        "id": "Yi72rERUD2VU"
      },
      "execution_count": 46,
      "outputs": []
    },
    {
      "cell_type": "code",
      "source": [
        "AT1 = np. transpose(A)\n",
        "AT1"
      ],
      "metadata": {
        "colab": {
          "base_uri": "https://localhost:8080/"
        },
        "id": "CHrgudY1D3Y7",
        "outputId": "77b0c598-1d14-4ca4-a5a1-8f48dd5333ee"
      },
      "execution_count": 4,
      "outputs": [
        {
          "output_type": "execute_result",
          "data": {
            "text/plain": [
              "array([[ 1,  5,  0],\n",
              "       [ 2, -1, -3],\n",
              "       [ 5,  0,  3]])"
            ]
          },
          "metadata": {},
          "execution_count": 4
        }
      ]
    },
    {
      "cell_type": "code",
      "source": [
        "AT2 = A.T\n",
        "AT2"
      ],
      "metadata": {
        "colab": {
          "base_uri": "https://localhost:8080/"
        },
        "id": "es8w36euD3fB",
        "outputId": "a9dd1e74-c743-455e-cb35-efdb380d07b1"
      },
      "execution_count": 5,
      "outputs": [
        {
          "output_type": "execute_result",
          "data": {
            "text/plain": [
              "array([[ 1,  5,  0],\n",
              "       [ 2, -1, -3],\n",
              "       [ 5,  0,  3]])"
            ]
          },
          "metadata": {},
          "execution_count": 5
        }
      ]
    },
    {
      "cell_type": "code",
      "source": [
        "np. array_equiv(AT1, AT2)"
      ],
      "metadata": {
        "colab": {
          "base_uri": "https://localhost:8080/"
        },
        "id": "koP2-_0HD8HM",
        "outputId": "123c078e-1912-460f-a3a3-152e7612c1d5"
      },
      "execution_count": 6,
      "outputs": [
        {
          "output_type": "execute_result",
          "data": {
            "text/plain": [
              "True"
            ]
          },
          "metadata": {},
          "execution_count": 6
        }
      ]
    },
    {
      "cell_type": "code",
      "source": [
        "B = np.array([\n",
        "    [7, 3, 2, 1],\n",
        "    [5, 6, 3, 1],\n",
        "])\n",
        "B. shape"
      ],
      "metadata": {
        "colab": {
          "base_uri": "https://localhost:8080/"
        },
        "id": "DRghv1mwD867",
        "outputId": "f61c3893-af42-447b-8730-43a54388136f"
      },
      "execution_count": 7,
      "outputs": [
        {
          "output_type": "execute_result",
          "data": {
            "text/plain": [
              "(2, 4)"
            ]
          },
          "metadata": {},
          "execution_count": 7
        }
      ]
    },
    {
      "cell_type": "code",
      "source": [
        "np.transpose(B).shape"
      ],
      "metadata": {
        "colab": {
          "base_uri": "https://localhost:8080/"
        },
        "id": "g_X44Dc2EAN2",
        "outputId": "eb9f1379-8a7c-4b0e-cc04-2c0bf4d012fa"
      },
      "execution_count": 8,
      "outputs": [
        {
          "output_type": "execute_result",
          "data": {
            "text/plain": [
              "(4, 2)"
            ]
          },
          "metadata": {},
          "execution_count": 8
        }
      ]
    },
    {
      "cell_type": "code",
      "source": [
        "B. T. shape"
      ],
      "metadata": {
        "colab": {
          "base_uri": "https://localhost:8080/"
        },
        "id": "nHFiFcY-EBpf",
        "outputId": "b9779d26-2ea5-43f2-ca64-67b6bfa40fa7"
      },
      "execution_count": 9,
      "outputs": [
        {
          "output_type": "execute_result",
          "data": {
            "text/plain": [
              "(4, 2)"
            ]
          },
          "metadata": {},
          "execution_count": 9
        }
      ]
    },
    {
      "cell_type": "markdown",
      "source": [
        ""
      ],
      "metadata": {
        "id": "12TNRjBCEFSb"
      }
    },
    {
      "cell_type": "markdown",
      "source": [
        "#### Try to create your own matrix (you can try non-squares) to test transposition."
      ],
      "metadata": {
        "id": "NbsTcTuOEFW1"
      }
    },
    {
      "cell_type": "code",
      "source": [
        "M = np.array([\n",
        "    [3,4],\n",
        "    [4,2],\n",
        "    [8,1],\n",
        "    [5,3],\n",
        "])"
      ],
      "metadata": {
        "id": "vyUcTNdyEGW0"
      },
      "execution_count": 10,
      "outputs": []
    },
    {
      "cell_type": "code",
      "source": [
        "MT = np.transpose(M)\n",
        "MT"
      ],
      "metadata": {
        "colab": {
          "base_uri": "https://localhost:8080/"
        },
        "id": "N___LNhEEH41",
        "outputId": "adbf319f-ea66-4a3a-931e-2122c13ff841"
      },
      "execution_count": 11,
      "outputs": [
        {
          "output_type": "execute_result",
          "data": {
            "text/plain": [
              "array([[3, 4, 8, 5],\n",
              "       [4, 2, 1, 3]])"
            ]
          },
          "metadata": {},
          "execution_count": 11
        }
      ]
    },
    {
      "cell_type": "markdown",
      "source": [
        "## Dot Product / Inner Product"
      ],
      "metadata": {
        "id": "xomTXYoqEKFM"
      }
    },
    {
      "cell_type": "markdown",
      "source": [
        "If you recall the dot product from laboratory activity before, we will try to implement the same operation with matrices. In matrix dot product we are going to get the sum of products of the vectors by row-column pairs. So if we have two matrices $X$ and $Y$:\n",
        "\n",
        "$$X = \\begin{bmatrix}x_{(0,0)}&x_{(0,1)}\\\\ x_{(1,0)}&x_{(1,1)}\\end{bmatrix}, Y = \\begin{bmatrix}y_{(0,0)}&y_{(0,1)}\\\\ y_{(1,0)}&y_{(1,1)}\\end{bmatrix}$$\n",
        "\n",
        "The dot product will then be computed as:\n",
        "$$X \\cdot Y= \\begin{bmatrix} x_{(0,0)}*y_{(0,0)} + x_{(0,1)}*y_{(1,0)} & x_{(0,0)}*y_{(0,1)} + x_{(0,1)}*y_{(1,1)} \\\\  x_{(1,0)}*y_{(0,0)} + x_{(1,1)}*y_{(1,0)} & x_{(1,0)}*y_{(0,1)} + x_{(1,1)}*y_{(1,1)}\n",
        "\\end{bmatrix}$$\n",
        "\n",
        "So if we assign values to $X$ and $Y$:\n",
        "$$X = \\begin{bmatrix}3&4&5\\\\ 6&2&8 \\\\ 1&7&4\\end{bmatrix}, Y = \\begin{bmatrix}-5&7&3\\\\ 6&8&4 \\\\ 4&6&2\\end{bmatrix}$$"
      ],
      "metadata": {
        "id": "RlaGw6JDEL-s"
      }
    },
    {
      "cell_type": "markdown",
      "source": [
        "$$X \\cdot Y= \\begin{bmatrix} 3*-5 + 4*6 + 5*4 & 3*7+ 4*8 + 5*6 & 3*3 + 4*4 + 5*2\\\\  6*-5 + 2*6 + 8*4 & 6*7 + 2*8 + 8*6 & 6*3 + 2*4 + 8*2 \\\\ 1*-5 + 7*6 + 4*4 & 1*7 + 7*8 + 4*6 & 1*3 + 7*4 + 4*2 \\end{bmatrix} = \\begin{bmatrix} 29 & 83 & 35 \\\\ 14 & 106 & 42 \\\\ 53 & 87 & 39 \\end{bmatrix}$$\n",
        "This could be achieved programmatically using `np.dot()`, `np.matmul()` or the `@` operator."
      ],
      "metadata": {
        "id": "N7THIHf6EOIc"
      }
    },
    {
      "cell_type": "code",
      "source": [
        "M = np.array([\n",
        "    [2, 4],\n",
        "    [0, 8]\n",
        "])\n",
        "J = np.array([\n",
        "    [-2, 0],\n",
        "    [3, 6]\n",
        "])"
      ],
      "metadata": {
        "id": "EyO_w9aoEQMA"
      },
      "execution_count": 12,
      "outputs": []
    },
    {
      "cell_type": "code",
      "source": [
        "np.array_equiv(M, J)"
      ],
      "metadata": {
        "colab": {
          "base_uri": "https://localhost:8080/"
        },
        "id": "f447wCabESK0",
        "outputId": "82e5f292-055d-40db-f800-894ff694e73f"
      },
      "execution_count": 13,
      "outputs": [
        {
          "output_type": "execute_result",
          "data": {
            "text/plain": [
              "False"
            ]
          },
          "metadata": {},
          "execution_count": 13
        }
      ]
    },
    {
      "cell_type": "code",
      "source": [
        "np.dot(M, J)"
      ],
      "metadata": {
        "colab": {
          "base_uri": "https://localhost:8080/"
        },
        "id": "diWHV4lgWjva",
        "outputId": "b103e4ad-3093-413d-b650-3bfa9e5954e8"
      },
      "execution_count": 14,
      "outputs": [
        {
          "output_type": "execute_result",
          "data": {
            "text/plain": [
              "array([[ 8, 24],\n",
              "       [24, 48]])"
            ]
          },
          "metadata": {},
          "execution_count": 14
        }
      ]
    },
    {
      "cell_type": "code",
      "source": [
        "M.dot(J)"
      ],
      "metadata": {
        "colab": {
          "base_uri": "https://localhost:8080/"
        },
        "id": "Xsi8JJmFWoPo",
        "outputId": "0975803a-d36a-4fe1-f2fa-0b36c766c823"
      },
      "execution_count": 15,
      "outputs": [
        {
          "output_type": "execute_result",
          "data": {
            "text/plain": [
              "array([[ 8, 24],\n",
              "       [24, 48]])"
            ]
          },
          "metadata": {},
          "execution_count": 15
        }
      ]
    },
    {
      "cell_type": "code",
      "source": [
        "M @ J"
      ],
      "metadata": {
        "colab": {
          "base_uri": "https://localhost:8080/"
        },
        "id": "95y7zPgTWqCQ",
        "outputId": "ed3a9ebe-543e-40f2-a118-1cd9a995bcfd"
      },
      "execution_count": 16,
      "outputs": [
        {
          "output_type": "execute_result",
          "data": {
            "text/plain": [
              "array([[ 8, 24],\n",
              "       [24, 48]])"
            ]
          },
          "metadata": {},
          "execution_count": 16
        }
      ]
    },
    {
      "cell_type": "code",
      "source": [
        "np.matmul(M,J)"
      ],
      "metadata": {
        "colab": {
          "base_uri": "https://localhost:8080/"
        },
        "id": "WjGzXXy-WrZR",
        "outputId": "a64f379c-3b1a-4d50-b2c1-3f77f7f9e43d"
      },
      "execution_count": 17,
      "outputs": [
        {
          "output_type": "execute_result",
          "data": {
            "text/plain": [
              "array([[ 8, 24],\n",
              "       [24, 48]])"
            ]
          },
          "metadata": {},
          "execution_count": 17
        }
      ]
    },
    {
      "cell_type": "markdown",
      "source": [
        "In matrix dot products there are additional rules compared with vector dot products. Since vector dot products were just in one dimension there are less restrictions. Since now we are dealing with Rank 2 vectors we need to consider some rules:\n",
        "\n",
        "### Rule 1: The inner dimensions of the two matrices in question must be the same. \n",
        "\n",
        "So given a matrix $E$ with a shape of $(e,x)$ where $e$ and $x$ are any integers. If we want to do a dot product between $E$ and another matrix $X$, then matrix $X$ should have a shape of $(x,o)$ where $x$ and $o$ are any integers. So for given the following matrices:\n",
        "\n",
        ":$$\n",
        "E=\\begin{bmatrix} 9 & 7 & 1 \\\\ 2 & 8 & 4 \\\\ 5 & 1 & 3 \\\\ 3 & 6 & 9\\end{bmatrix} ,\\\\\n",
        "X=\\begin{bmatrix} 5 & 2 & 9 & \\\\ -5 & 2 & 1 \\\\ 2 & 1 & 4 \\\\ -2 & 4 & 5\\end{bmatrix} ,\\\\\n",
        "O=\\begin{bmatrix} 2 & 4 & 7 & 9 \\\\ 5 & 9 & 8 & 3 \\\\ 8 & 9 & 1 & 4\\end{bmatrix} \n",
        "$$\n",
        "\n",
        "So in this case $E$ has a shape of $(4,3)$, $X$ has a shape of $(4,3)$ and $O$ has a shape of $(3,4)$. So the only matrix pairs that is eligible to perform dot product is matrices $E \\cdot O$, or $X \\cdot CO$.  "
      ],
      "metadata": {
        "id": "rxHkUNzPWt0o"
      }
    },
    {
      "cell_type": "code",
      "source": [
        "M = np.array([\n",
        "    [0, 7],\n",
        "    [0, 5],\n",
        "    [0, 1],\n",
        "])\n",
        "I = np.array([\n",
        "    [0, 7],\n",
        "    [2, 3],\n",
        "    [1, 0]\n",
        "])\n",
        "K = np.array([\n",
        "    [0, 1, 1],\n",
        "    [1, 7, 7]\n",
        "])"
      ],
      "metadata": {
        "id": "ZE2mjsCkWwHP"
      },
      "execution_count": 18,
      "outputs": []
    },
    {
      "cell_type": "code",
      "source": [
        "M @ K"
      ],
      "metadata": {
        "colab": {
          "base_uri": "https://localhost:8080/"
        },
        "id": "r6_DJ1DsWxi_",
        "outputId": "96191687-492c-435b-94ff-cd835722afd7"
      },
      "execution_count": 19,
      "outputs": [
        {
          "output_type": "execute_result",
          "data": {
            "text/plain": [
              "array([[ 7, 49, 49],\n",
              "       [ 5, 35, 35],\n",
              "       [ 1,  7,  7]])"
            ]
          },
          "metadata": {},
          "execution_count": 19
        }
      ]
    },
    {
      "cell_type": "code",
      "source": [
        "I @ K"
      ],
      "metadata": {
        "colab": {
          "base_uri": "https://localhost:8080/"
        },
        "id": "IU-vH7jBWzFg",
        "outputId": "9525dabc-8efd-44fd-9e13-1c64123eaf5a"
      },
      "execution_count": 20,
      "outputs": [
        {
          "output_type": "execute_result",
          "data": {
            "text/plain": [
              "array([[ 7, 49, 49],\n",
              "       [ 3, 23, 23],\n",
              "       [ 0,  1,  1]])"
            ]
          },
          "metadata": {},
          "execution_count": 20
        }
      ]
    },
    {
      "cell_type": "markdown",
      "source": [
        "If you would notice the shape of the dot product changed and its shape is not the same as any of the matrices we used. The shape of a dot product is actually derived from the shapes of the matrices used. So recall matrix $E$ with a shape of $(a,b)$ and matrix $X$ with a shape of $(b,c)$, $E \\cdot X$ should have a shape $(a,c)$."
      ],
      "metadata": {
        "id": "HTJ4P7CSW245"
      }
    },
    {
      "cell_type": "code",
      "source": [
        "M @I.T"
      ],
      "metadata": {
        "colab": {
          "base_uri": "https://localhost:8080/"
        },
        "id": "-5OqhjUxW4UQ",
        "outputId": "ea5d5a22-88cd-45c9-a3dd-36987ea580c7"
      },
      "execution_count": 21,
      "outputs": [
        {
          "output_type": "execute_result",
          "data": {
            "text/plain": [
              "array([[49, 21,  0],\n",
              "       [35, 15,  0],\n",
              "       [ 7,  3,  0]])"
            ]
          },
          "metadata": {},
          "execution_count": 21
        }
      ]
    },
    {
      "cell_type": "code",
      "source": [
        "M = np.array([\n",
        "    [2,9,1,5]\n",
        "])\n",
        "J = np.array([\n",
        "    [9,1,3,-2]\n",
        "])\n",
        "print(M.shape)\n",
        "print(J.shape)"
      ],
      "metadata": {
        "colab": {
          "base_uri": "https://localhost:8080/"
        },
        "id": "0FNKNWREW5kZ",
        "outputId": "bfb4b69d-f1af-4013-c1b7-82133d61c59e"
      },
      "execution_count": 22,
      "outputs": [
        {
          "output_type": "stream",
          "name": "stdout",
          "text": [
            "(1, 4)\n",
            "(1, 4)\n"
          ]
        }
      ]
    },
    {
      "cell_type": "code",
      "source": [
        "M.T @ J"
      ],
      "metadata": {
        "colab": {
          "base_uri": "https://localhost:8080/"
        },
        "id": "EOSiCQT4W7GM",
        "outputId": "3db8fb29-5403-4f30-e80c-177d48702d56"
      },
      "execution_count": 23,
      "outputs": [
        {
          "output_type": "execute_result",
          "data": {
            "text/plain": [
              "array([[ 18,   2,   6,  -4],\n",
              "       [ 81,   9,  27, -18],\n",
              "       [  9,   1,   3,  -2],\n",
              "       [ 45,   5,  15, -10]])"
            ]
          },
          "metadata": {},
          "execution_count": 23
        }
      ]
    },
    {
      "cell_type": "markdown",
      "source": [
        "### Rule 2: Dot Product has special properties\n",
        "\n",
        "Dot products are prevalent in matrix algebra, this implies that it has several unique properties and it should be considered when formulation solutions:\n",
        " 1. $A \\cdot B \\neq B \\cdot A$\n",
        " 2. $A \\cdot (B \\cdot C) = (A \\cdot B) \\cdot C$\n",
        " 3. $A\\cdot(B+C) = A\\cdot B + A\\cdot C$\n",
        " 4. $(B+C)\\cdot A = B\\cdot A + C\\cdot A$\n",
        " 5. $A\\cdot I = A$\n",
        " 6. $A\\cdot \\emptyset = \\emptyset$ "
      ],
      "metadata": {
        "id": "PBZVr0U0W9Nx"
      }
    },
    {
      "cell_type": "markdown",
      "source": [
        "I'll be doing just one of the properties and I'll leave the rest to test your skills! =paraphrase="
      ],
      "metadata": {
        "id": "zvLGRS01W_bX"
      }
    },
    {
      "cell_type": "code",
      "source": [
        "A = np.array([\n",
        "    [1,0,1],\n",
        "    [9,3,1],\n",
        "    [1,4,8]\n",
        "])\n",
        "L = np.array([\n",
        "    [4,5,1],\n",
        "    [1,3,9],\n",
        "    [7,4,7]\n",
        "])\n",
        "T = np.array([\n",
        "    [1,2,1],\n",
        "    [3,2,1],\n",
        "    [3,0,1]\n",
        "])"
      ],
      "metadata": {
        "id": "3aQqSzj1XAzY"
      },
      "execution_count": 24,
      "outputs": []
    },
    {
      "cell_type": "code",
      "source": [
        "A.dot(np.zeros(A.shape))"
      ],
      "metadata": {
        "colab": {
          "base_uri": "https://localhost:8080/"
        },
        "id": "tTVUf_I4XCNz",
        "outputId": "9ca3d393-15c1-486d-951f-a46c5e69607d"
      },
      "execution_count": 25,
      "outputs": [
        {
          "output_type": "execute_result",
          "data": {
            "text/plain": [
              "array([[0., 0., 0.],\n",
              "       [0., 0., 0.],\n",
              "       [0., 0., 0.]])"
            ]
          },
          "metadata": {},
          "execution_count": 25
        }
      ]
    },
    {
      "cell_type": "code",
      "source": [
        "z_mat = np.zeros(A.shape)\n",
        "z_mat"
      ],
      "metadata": {
        "colab": {
          "base_uri": "https://localhost:8080/"
        },
        "id": "tE-mmFeCXDXt",
        "outputId": "8be262f3-32c6-4c3b-a904-7edd743555fb"
      },
      "execution_count": 26,
      "outputs": [
        {
          "output_type": "execute_result",
          "data": {
            "text/plain": [
              "array([[0., 0., 0.],\n",
              "       [0., 0., 0.],\n",
              "       [0., 0., 0.]])"
            ]
          },
          "metadata": {},
          "execution_count": 26
        }
      ]
    },
    {
      "cell_type": "code",
      "source": [
        "a_dot_z = A.dot(np.zeros(A.shape))\n",
        "a_dot_z"
      ],
      "metadata": {
        "id": "eD4toc6KXEtT"
      },
      "execution_count": null,
      "outputs": []
    },
    {
      "cell_type": "code",
      "source": [
        "np.array_equal(a_dot_z,z_mat)"
      ],
      "metadata": {
        "colab": {
          "base_uri": "https://localhost:8080/"
        },
        "id": "gOG_3P43XFro",
        "outputId": "28d9d558-6892-4451-bb1d-96971a70d411"
      },
      "execution_count": 28,
      "outputs": [
        {
          "output_type": "execute_result",
          "data": {
            "text/plain": [
              "True"
            ]
          },
          "metadata": {},
          "execution_count": 28
        }
      ]
    },
    {
      "cell_type": "code",
      "source": [
        "null_mat = np.empty(A.shape, dtype=float)\n",
        "null = np.array(null_mat,dtype=float)\n",
        "print(null)\n",
        "np.allclose(a_dot_z,null)"
      ],
      "metadata": {
        "colab": {
          "base_uri": "https://localhost:8080/"
        },
        "id": "xsv28nbmXGto",
        "outputId": "e2fd051d-4dce-4291-82b5-51dc0fc05eb3"
      },
      "execution_count": 29,
      "outputs": [
        {
          "output_type": "stream",
          "name": "stdout",
          "text": [
            "[[0. 0. 0.]\n",
            " [0. 0. 0.]\n",
            " [0. 0. 0.]]\n"
          ]
        },
        {
          "output_type": "execute_result",
          "data": {
            "text/plain": [
              "True"
            ]
          },
          "metadata": {},
          "execution_count": 29
        }
      ]
    },
    {
      "cell_type": "markdown",
      "source": [
        "A determinant is a scalar value derived from a square matrix. The determinant is a fundamental and important value used in matrix algebra. Although it will not be evident in this laboratory on how it can be used practically, but it will be reatly used in future lessons.\n",
        "\n",
        "The determinant of some matrix $A$ is denoted as $det(A)$ or $|A|$. So let's say $A$ is represented as:\n",
        "$$A = \\begin{bmatrix}a_{(0,0)}&a_{(0,1)}\\\\a_{(1,0)}&a_{(1,1)}\\end{bmatrix}$$\n",
        "We can compute for the determinant as:\n",
        "$$|A| = a_{(0,0)}*a_{(1,1)} - a_{(1,0)}*a_{(0,1)}$$\n",
        "So if we have $A$ as:\n",
        "$$A = \\begin{bmatrix}1&4\\\\0&3\\end{bmatrix}, |A| = 3$$\n",
        "\n",
        "But you might wonder how about square matrices beyond the shape $(2,2)$? We can approach this problem by using several methods such as co-factor expansion and the minors method. This can be taught in the lecture of the laboratory but we can achieve the strenuous computation of high-dimensional matrices programmatically using Python. We can achieve this by using `np.linalg.det()`."
      ],
      "metadata": {
        "id": "hycrjQbiXIXJ"
      }
    },
    {
      "cell_type": "code",
      "source": [
        "T = np.array([\n",
        "    [1,9],\n",
        "    [8,2]\n",
        "])\n",
        "np.linalg.det(T)"
      ],
      "metadata": {
        "colab": {
          "base_uri": "https://localhost:8080/"
        },
        "id": "_4NNU5nuXKlw",
        "outputId": "1796919b-5f3b-4a43-ec3a-b7b901dd9a4e"
      },
      "execution_count": 30,
      "outputs": [
        {
          "output_type": "execute_result",
          "data": {
            "text/plain": [
              "-69.99999999999996"
            ]
          },
          "metadata": {},
          "execution_count": 30
        }
      ]
    },
    {
      "cell_type": "code",
      "source": [
        "## Now other mathematics classes would require you to solve this by hand, \n",
        "## and that is great for practicing your memorization and coordination skills \n",
        "## but in this class we aim for simplicity and speed so we'll use programming\n",
        "## but it's completely fine if you want to try to solve this one by hand.\n",
        "H = np.array([\n",
        "    [9,1,8,2],\n",
        "    [7,3,6,4],\n",
        "    [5,5,4,6],\n",
        "    [3,7,2,8]\n",
        "])\n",
        "np.linalg.det(H)"
      ],
      "metadata": {
        "colab": {
          "base_uri": "https://localhost:8080/"
        },
        "id": "iEqnxIEkXL2o",
        "outputId": "dc69f5c0-0c38-43ab-96c2-a74b52dbf622"
      },
      "execution_count": 31,
      "outputs": [
        {
          "output_type": "execute_result",
          "data": {
            "text/plain": [
              "0.0"
            ]
          },
          "metadata": {},
          "execution_count": 31
        }
      ]
    },
    {
      "cell_type": "markdown",
      "source": [
        "The inverse of a matrix is another fundamental operation in matrix algebra. Determining the inverse of a matrix let us determine if its solvability and its characteristic as a system of linear equation — we'll expand on this in the nect module. Another use of the inverse matrix is solving the problem of divisibility between matrices. Although element-wise division exists but dividing the entire concept of matrices does not exists. Inverse matrices provides a related operation that could have the same concept of \"dividing\" matrices.\n",
        "\n",
        "Now to determine the inverse of a matrix we need to perform several steps. So let's say we have a matrix $M$:\n",
        "$$M = \\begin{bmatrix}1&7\\\\-3&5\\end{bmatrix}$$\n",
        "First, we need to get the determinant of $M$.\n",
        "$$|M| = (1)(5)-(-3)(7) = 26$$\n",
        "Next, we need to reform the matrix into the inverse form:\n",
        "$$M^{-1} = \\frac{1}{|M|} \\begin{bmatrix} m_{(1,1)} & -m_{(0,1)} \\\\ -m_{(1,0)} & m_{(0,0)}\\end{bmatrix}$$\n",
        "So that will be:\n",
        "$$M^{-1} = \\frac{1}{26} \\begin{bmatrix} 5 & -7 \\\\ 3 & 1\\end{bmatrix} = \\begin{bmatrix} \\frac{5}{26} & \\frac{-7}{26} \\\\ \\frac{3}{26} & \\frac{1}{26}\\end{bmatrix}$$\n",
        "For higher-dimension matrices you might need to use co-factors, minors, adjugates, and other reduction techinques. To solve this programmatially we can use `np.linalg.inv()`."
      ],
      "metadata": {
        "id": "4t0JZjStXNm6"
      }
    },
    {
      "cell_type": "code",
      "source": [
        "K = np.array([\n",
        "    [3,2],\n",
        "    [-9, 1]\n",
        "])\n",
        "\n",
        "np.array(K @ np.linalg.inv(K), dtype=int)"
      ],
      "metadata": {
        "colab": {
          "base_uri": "https://localhost:8080/"
        },
        "id": "1_lHBnTTXPmB",
        "outputId": "5b6bcde8-985d-4cbe-8aed-56bb0bcf0a45"
      },
      "execution_count": 32,
      "outputs": [
        {
          "output_type": "execute_result",
          "data": {
            "text/plain": [
              "array([[1, 0],\n",
              "       [0, 1]])"
            ]
          },
          "metadata": {},
          "execution_count": 32
        }
      ]
    },
    {
      "cell_type": "code",
      "source": [
        "## And now let's test your skills in solving a matrix with high dimensions:\n",
        "O = np.array([\n",
        "    [1,3,5,7,1,81,3],\n",
        "    [9,32,0,27,13,12,9],\n",
        "    [7,3,13,40,50,61,8],\n",
        "    [2,3,4,5,6,7,8],\n",
        "    [2,16,48,27,61,13,12],\n",
        "    [13,-11,23,12,32,14,-90],\n",
        "    [13,41,31,61,32,94,-22],\n",
        "])\n",
        "O_inv = np.linalg.inv(O)\n",
        "np.array(O @ O_inv,dtype=int)"
      ],
      "metadata": {
        "colab": {
          "base_uri": "https://localhost:8080/"
        },
        "id": "rgdbHRpQXQyi",
        "outputId": "96c73458-bebb-4ef4-8ae4-847870d424df"
      },
      "execution_count": 33,
      "outputs": [
        {
          "output_type": "execute_result",
          "data": {
            "text/plain": [
              "array([[1, 0, 0, 0, 0, 0, 0],\n",
              "       [0, 1, 0, 0, 0, 0, 0],\n",
              "       [0, 0, 1, 0, 0, 0, 0],\n",
              "       [0, 0, 0, 1, 0, 0, 0],\n",
              "       [0, 0, 0, 0, 0, 0, 0],\n",
              "       [0, 0, 0, 0, 0, 1, 0],\n",
              "       [0, 0, 0, 0, 0, 0, 0]])"
            ]
          },
          "metadata": {},
          "execution_count": 33
        }
      ]
    },
    {
      "cell_type": "markdown",
      "source": [
        "To validate the wether if the matric that you have solved is really the inverse, we follow this dot product property for a matrix $M$:\n",
        "$$M\\cdot M^{-1} = I$$"
      ],
      "metadata": {
        "id": "GVjhrR34XSpo"
      }
    },
    {
      "cell_type": "code",
      "source": [
        "Okims = np.array([\n",
        "    [3.0, 2.1, 0.9],\n",
        "    [4.3, 1.7, 4.9],\n",
        "    [3.1, 9.3, 3.0]\n",
        "])\n",
        "Althea = np.array([\n",
        "    [0.1, 3.1, 8.1]\n",
        "])\n",
        "p_grade = Okims @ Althea.T\n",
        "p_grade\n"
      ],
      "metadata": {
        "colab": {
          "base_uri": "https://localhost:8080/"
        },
        "id": "l8jD4J0ZXURa",
        "outputId": "c71b781e-64da-4e62-b428-d0ab4b8abde4"
      },
      "execution_count": 34,
      "outputs": [
        {
          "output_type": "execute_result",
          "data": {
            "text/plain": [
              "array([[14.1 ],\n",
              "       [45.39],\n",
              "       [53.44]])"
            ]
          },
          "metadata": {},
          "execution_count": 34
        }
      ]
    },
    {
      "cell_type": "markdown",
      "source": [
        "## Activity"
      ],
      "metadata": {
        "id": "Idzh2owZXVjl"
      }
    },
    {
      "cell_type": "markdown",
      "source": [
        "Prove and implement the remaining 6 matrix multiplication properties. You may create your own matrices in which their shapes should not be lower than  (3,3) . In your methodology, create individual flowcharts for each property and discuss the property you would then present your proofs or validity of your implementation in the results section by comparing your result to present functions from NumPy."
      ],
      "metadata": {
        "id": "3mFUDdLfXXKR"
      }
    },
    {
      "cell_type": "code",
      "source": [
        "M = np.array([\n",
        "    [0,7,0,-5],\n",
        "    [2,-0,0,1],\n",
        "    [0,7,2,3],\n",
        "    [2,0,-1,0]\n",
        "])\n",
        "I = np.array([\n",
        "    [1,3,2,-5],\n",
        "    [2,-1,0,8],\n",
        "    [4,4,5,2],\n",
        "    [8,2,3,-9]\n",
        "])\n",
        "K = np.array([\n",
        "    [2,8,-5,3], \n",
        "    [9,3,3,4],\n",
        "    [7,-4,1,8],\n",
        "    [-2,4,7,4]\n",
        "])"
      ],
      "metadata": {
        "id": "kUtt5SobXYXR"
      },
      "execution_count": 35,
      "outputs": []
    },
    {
      "cell_type": "markdown",
      "source": [
        "$A \\cdot B \\neq B \\cdot A$"
      ],
      "metadata": {
        "id": "Kss7_fPmXZ5J"
      }
    },
    {
      "cell_type": "code",
      "source": [
        "I = (M@I) != (I@M)\n",
        "I"
      ],
      "metadata": {
        "colab": {
          "base_uri": "https://localhost:8080/"
        },
        "id": "pbiLdurNXbXt",
        "outputId": "763eb329-946c-4bf3-a09c-8f23e54908d8"
      },
      "execution_count": 36,
      "outputs": [
        {
          "output_type": "execute_result",
          "data": {
            "text/plain": [
              "array([[ True,  True,  True,  True],\n",
              "       [ True,  True,  True,  True],\n",
              "       [ True,  True,  True,  True],\n",
              "       [ True,  True,  True,  True]])"
            ]
          },
          "metadata": {},
          "execution_count": 36
        }
      ]
    },
    {
      "cell_type": "markdown",
      "source": [
        "$A \\cdot (B \\cdot C) = (A \\cdot B) \\cdot C$"
      ],
      "metadata": {
        "id": "afCP5k6pXcoh"
      }
    },
    {
      "cell_type": "code",
      "source": [
        "O = M @ (I @ K)\n",
        "O"
      ],
      "metadata": {
        "colab": {
          "base_uri": "https://localhost:8080/"
        },
        "id": "Hfjlj7VXXeU6",
        "outputId": "f27d9bda-46fc-4f39-e994-c05c0fb7f92e"
      },
      "execution_count": 37,
      "outputs": [
        {
          "output_type": "execute_result",
          "data": {
            "text/plain": [
              "array([[ 32,  22,  12,  38],\n",
              "       [ 48,  33,  18,  57],\n",
              "       [192, 132,  72, 228],\n",
              "       [ 16,  11,   6,  19]])"
            ]
          },
          "metadata": {},
          "execution_count": 37
        }
      ]
    },
    {
      "cell_type": "code",
      "source": [
        "A = (M @ I) @ K\n",
        "A"
      ],
      "metadata": {
        "colab": {
          "base_uri": "https://localhost:8080/"
        },
        "id": "sEmBzsh5Xfpc",
        "outputId": "e0e5dd9a-eb84-412e-f1b6-3d47780b8d7c"
      },
      "execution_count": 38,
      "outputs": [
        {
          "output_type": "execute_result",
          "data": {
            "text/plain": [
              "array([[ 32,  22,  12,  38],\n",
              "       [ 48,  33,  18,  57],\n",
              "       [192, 132,  72, 228],\n",
              "       [ 16,  11,   6,  19]])"
            ]
          },
          "metadata": {},
          "execution_count": 38
        }
      ]
    },
    {
      "cell_type": "markdown",
      "source": [
        "$A\\cdot(B+C) = A\\cdot B + A\\cdot C$"
      ],
      "metadata": {
        "id": "b0VOK0grXhHB"
      }
    },
    {
      "cell_type": "code",
      "source": [
        "L = M @ ( I + K)\n",
        "L"
      ],
      "metadata": {
        "colab": {
          "base_uri": "https://localhost:8080/"
        },
        "id": "SQ5yYtMpXiUh",
        "outputId": "e3437bdc-7967-4e1f-d96f-f39225335782"
      },
      "execution_count": 39,
      "outputs": [
        {
          "output_type": "execute_result",
          "data": {
            "text/plain": [
              "array([[ 75,   3, -12,  10],\n",
              "       [  5,  23,   0,  13],\n",
              "       [ 83,  37,  56,  68],\n",
              "       [ -2,  21, -10,  -1]])"
            ]
          },
          "metadata": {},
          "execution_count": 39
        }
      ]
    },
    {
      "cell_type": "code",
      "source": [
        "T = (M@I) + (M@K)\n",
        "T"
      ],
      "metadata": {
        "colab": {
          "base_uri": "https://localhost:8080/"
        },
        "id": "o5ZYDzH5Xjjs",
        "outputId": "9c598734-f177-4767-9a61-0fc4b2353bf7"
      },
      "execution_count": 40,
      "outputs": [
        {
          "output_type": "execute_result",
          "data": {
            "text/plain": [
              "array([[ 75,   3, -12,  10],\n",
              "       [  5,  23,   0,  13],\n",
              "       [ 83,  37,  56,  68],\n",
              "       [ -2,  21, -10,  -1]])"
            ]
          },
          "metadata": {},
          "execution_count": 40
        }
      ]
    },
    {
      "cell_type": "markdown",
      "source": [
        "$(B+C)\\cdot A = B\\cdot A + C\\cdot A$"
      ],
      "metadata": {
        "id": "MSnltE_aXlRo"
      }
    },
    {
      "cell_type": "code",
      "source": [
        "H = (I+K) @ M\n",
        "H"
      ],
      "metadata": {
        "colab": {
          "base_uri": "https://localhost:8080/"
        },
        "id": "5rBZiN6EXmfs",
        "outputId": "800adbf5-2c1d-4459-fd9f-d40fb5836e6e"
      },
      "execution_count": 41,
      "outputs": [
        {
          "output_type": "execute_result",
          "data": {
            "text/plain": [
              "array([[ 26,  -7, -12, -18],\n",
              "       [ 18,  98,   3, -34],\n",
              "       [ 12,  70,  -5, -37],\n",
              "       [ 20,  49,  11,  34]])"
            ]
          },
          "metadata": {},
          "execution_count": 41
        }
      ]
    },
    {
      "cell_type": "code",
      "source": [
        "E = (I@M) + (K@M)\n",
        "E"
      ],
      "metadata": {
        "colab": {
          "base_uri": "https://localhost:8080/"
        },
        "id": "DZrPJGIfXntb",
        "outputId": "f80dc305-f5ad-4c7d-fe37-5b7e7c0a9651"
      },
      "execution_count": 42,
      "outputs": [
        {
          "output_type": "execute_result",
          "data": {
            "text/plain": [
              "array([[ 26,  -7, -12, -18],\n",
              "       [ 18,  98,   3, -34],\n",
              "       [ 12,  70,  -5, -37],\n",
              "       [ 20,  49,  11,  34]])"
            ]
          },
          "metadata": {},
          "execution_count": 42
        }
      ]
    },
    {
      "cell_type": "markdown",
      "source": [
        "$A\\cdot I = A$"
      ],
      "metadata": {
        "id": "fWBW_FqmXpF1"
      }
    },
    {
      "cell_type": "code",
      "source": [
        "np.eye(5)"
      ],
      "metadata": {
        "colab": {
          "base_uri": "https://localhost:8080/"
        },
        "id": "gc11u7UaXqQz",
        "outputId": "69b780fa-121e-4e2c-d148-463fb8112841"
      },
      "execution_count": 43,
      "outputs": [
        {
          "output_type": "execute_result",
          "data": {
            "text/plain": [
              "array([[1., 0., 0., 0., 0.],\n",
              "       [0., 1., 0., 0., 0.],\n",
              "       [0., 0., 1., 0., 0.],\n",
              "       [0., 0., 0., 1., 0.],\n",
              "       [0., 0., 0., 0., 1.]])"
            ]
          },
          "metadata": {},
          "execution_count": 43
        }
      ]
    },
    {
      "cell_type": "code",
      "source": [
        "K.dot(np.eye(4))"
      ],
      "metadata": {
        "colab": {
          "base_uri": "https://localhost:8080/"
        },
        "id": "1kAmgNeAXsCz",
        "outputId": "6603543e-ee54-4a96-ff8b-91204c6fea93"
      },
      "execution_count": 44,
      "outputs": [
        {
          "output_type": "execute_result",
          "data": {
            "text/plain": [
              "array([[ 2.,  8., -5.,  3.],\n",
              "       [ 9.,  3.,  3.,  4.],\n",
              "       [ 7., -4.,  1.,  8.],\n",
              "       [-2.,  4.,  7.,  4.]])"
            ]
          },
          "metadata": {},
          "execution_count": 44
        }
      ]
    },
    {
      "cell_type": "markdown",
      "source": [
        "$A\\cdot \\emptyset = \\emptyset$"
      ],
      "metadata": {
        "id": "IfPVc9NNXucv"
      }
    },
    {
      "cell_type": "code",
      "source": [
        "z_mat = np.zeros(K.shape)\n",
        "z_mat"
      ],
      "metadata": {
        "colab": {
          "base_uri": "https://localhost:8080/"
        },
        "id": "5onnVVifXwDs",
        "outputId": "d1ec4289-8a6f-4754-e0fa-173965a1dfb4"
      },
      "execution_count": 45,
      "outputs": [
        {
          "output_type": "execute_result",
          "data": {
            "text/plain": [
              "array([[0., 0., 0., 0.],\n",
              "       [0., 0., 0., 0.],\n",
              "       [0., 0., 0., 0.],\n",
              "       [0., 0., 0., 0.]])"
            ]
          },
          "metadata": {},
          "execution_count": 45
        }
      ]
    },
    {
      "cell_type": "markdown",
      "source": [
        "## Conclusion"
      ],
      "metadata": {
        "id": "7oz-qxY_X7J-"
      }
    },
    {
      "cell_type": "markdown",
      "source": [
        "Students were able to comprehend and implement several matrix operations such as transpository, dot product, determinant, and inverse of a matrix. They were able to put their learning into practice when they completed Task 1, which required them to prove and implement the six matrix multiplication properties. In this situation, care practices can be improved by constructing a matrix, which would result in a significant interaction between core skills and quality results. Attitude, knowledge, and skills are examples of core competencies. The matrix serves as a roadmap for residents to acquire the essential competencies in patient care, as well as faculty to relate knowledge of the competencies to improved care quality."
      ],
      "metadata": {
        "id": "urFlou70X8zm"
      }
    }
  ]
}