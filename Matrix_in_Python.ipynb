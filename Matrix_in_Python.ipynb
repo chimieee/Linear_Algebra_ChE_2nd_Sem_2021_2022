{
  "nbformat": 4,
  "nbformat_minor": 0,
  "metadata": {
    "colab": {
      "name": "Matrix in Python",
      "provenance": [],
      "collapsed_sections": [],
      "authorship_tag": "ABX9TyOAO73770jrcw3nq4WM6xfD",
      "include_colab_link": true
    },
    "kernelspec": {
      "name": "python3",
      "display_name": "Python 3"
    },
    "language_info": {
      "name": "python"
    }
  },
  "cells": [
    {
      "cell_type": "markdown",
      "metadata": {
        "id": "view-in-github",
        "colab_type": "text"
      },
      "source": [
        "<a href=\"https://colab.research.google.com/github/chimieee/Linear_Algebra_ChE_2nd_Sem_2021_2022/blob/main/Matrix_in_Python.ipynb\" target=\"_parent\"><img src=\"https://colab.research.google.com/assets/colab-badge.svg\" alt=\"Open In Colab\"/></a>"
      ]
    },
    {
      "cell_type": "markdown",
      "source": [
        "#Linear Algebra for ChE\n",
        "##Assignment 3: Matrices"
      ],
      "metadata": {
        "id": "klp67CfIYg8J"
      }
    },
    {
      "cell_type": "markdown",
      "source": [
        "\n",
        "\n",
        "We'll try to look into further depth keeping in mind the basic understanding of Python.\n",
        "\n"
      ],
      "metadata": {
        "id": "FK7EVKnVTCdM"
      }
    },
    {
      "cell_type": "markdown",
      "source": [
        "###Objectives\n",
        "At the end of this activity you will be able to:\n",
        "1. Perform basic matrix computations. \n",
        "2. Understand matrices and how they relate to linear equations. \n",
        "3. Interpret and utilize matrix equations and operations."
      ],
      "metadata": {
        "id": "MuIUtu7gY46n"
      }
    },
    {
      "cell_type": "markdown",
      "source": [
        "# Discussion"
      ],
      "metadata": {
        "id": "yLszoNGfUVv0"
      }
    },
    {
      "cell_type": "code",
      "source": [
        "import numpy as np\n",
        "import matplotlib.pyplot as plt\n",
        "import scipy.linalg as la\n",
        "%matplotlib inline"
      ],
      "metadata": {
        "id": "JTr1SYF4UwFj"
      },
      "execution_count": null,
      "outputs": []
    },
    {
      "cell_type": "markdown",
      "source": [
        ":$$\n",
        "A=\\begin{bmatrix}\\ 1 & 1 \\\\ 4 & {-10}\\end{bmatrix} \\\\\n",
        "B=\\begin{bmatrix}\\ 1 & 1 & 1 \\\\ 3 & -2 & -1 \\\\ -1 & 4 & 2\\end\n",
        "{bmatrix}\\\\\n",
        "C=\\begin{bmatrix}\\ 1 & -2 & 3 & -4 \\\\ 3 & -1 & -2 & 1 \\\\ 2 & -1 & 3 & -2\\end{bmatrix} \n",
        "$$\n",
        "\n",
        "\n"
      ],
      "metadata": {
        "id": "g6wHuEzK0vVJ"
      }
    },
    {
      "cell_type": "code",
      "source": [
        "## Since we'll keep on describing matrices. Let's make a function.\n",
        "def describe_mat(matrix):\n",
        "    print(f'Matrix:\\n{matrix}\\n\\nShape:\\t{matrix.shape}\\nRank:\\t{matrix.ndim}\\n')"
      ],
      "metadata": {
        "id": "EPVr4rPq2drI"
      },
      "execution_count": null,
      "outputs": []
    },
    {
      "cell_type": "code",
      "source": [
        "## Declaring a 4 x 5 matrix\n",
        "L = np.array ([\n",
        "    [96, 68, 33, 39, 51],\n",
        "    [60, 19 ,30, 45, 86],\n",
        "    [62, 57, 68, 93, 31],\n",
        "    [57, 23, 19, 58, 23]\n",
        "])\n",
        "describe_mat(L)"
      ],
      "metadata": {
        "colab": {
          "base_uri": "https://localhost:8080/"
        },
        "id": "tvtBsfRH3RXG",
        "outputId": "8d4b0ba7-e654-4a31-a52a-e40e1d40a27d"
      },
      "execution_count": null,
      "outputs": [
        {
          "output_type": "stream",
          "name": "stdout",
          "text": [
            "Matrix:\n",
            "[[96 68 33 39 51]\n",
            " [60 19 30 45 86]\n",
            " [62 57 68 93 31]\n",
            " [57 23 19 58 23]]\n",
            "\n",
            "Shape:\t(4, 5)\n",
            "Rank:\t2\n",
            "\n"
          ]
        }
      ]
    },
    {
      "cell_type": "code",
      "source": [
        "N = np.array([[[\n",
        "    [31, 32, 33, 34, 35],\n",
        "    [41, 42, 53, 53, 13],\n",
        "    [71, 24, 65, 73, 31],\n",
        "    [31, 89, 13, 54, 14]\n",
        "]]])\n",
        "describe_mat(N)"
      ],
      "metadata": {
        "colab": {
          "base_uri": "https://localhost:8080/"
        },
        "id": "5I_DSODj8l3f",
        "outputId": "6d5c1a46-feed-40d9-d14f-bce2ceb41e28"
      },
      "execution_count": null,
      "outputs": [
        {
          "output_type": "stream",
          "name": "stdout",
          "text": [
            "Matrix:\n",
            "[[[[31 32 33 34 35]\n",
            "   [41 42 53 53 13]\n",
            "   [71 24 65 73 31]\n",
            "   [31 89 13 54 14]]]]\n",
            "\n",
            "Shape:\t(1, 1, 4, 5)\n",
            "Rank:\t4\n",
            "\n"
          ]
        }
      ]
    },
    {
      "cell_type": "code",
      "source": [
        "E = np.array([\n",
        "    [81, 92, 73, 44, 35],\n",
        "    [11, 22, 13, 63, 73],\n",
        "    [71, 54, 45, 23, 41],\n",
        "    [71, 89, 13, 84, 34]\n",
        "])\n",
        "describe_mat(E)"
      ],
      "metadata": {
        "colab": {
          "base_uri": "https://localhost:8080/"
        },
        "id": "t4tpxE-P3azZ",
        "outputId": "0b3dfbb8-2b93-475c-d4f4-2931ff8bd50f"
      },
      "execution_count": null,
      "outputs": [
        {
          "output_type": "stream",
          "name": "stdout",
          "text": [
            "Matrix:\n",
            "[[81 92 73 44 35]\n",
            " [11 22 13 63 73]\n",
            " [71 54 45 23 41]\n",
            " [71 89 13 84 34]]\n",
            "\n",
            "Shape:\t(4, 5)\n",
            "Rank:\t2\n",
            "\n"
          ]
        }
      ]
    },
    {
      "cell_type": "code",
      "source": [
        "A = np.array([\n",
        "    [32, 34, 37, 32, 36],\n",
        "    [41, 42, 57, 52, 13],\n",
        "    [71, 24, 65, 73, 31],\n",
        "    [31, 89, 13, 54, 14]\n",
        "])\n",
        "describe_mat(A)"
      ],
      "metadata": {
        "colab": {
          "base_uri": "https://localhost:8080/"
        },
        "id": "q4lykBho8rBU",
        "outputId": "5dd89d01-bf44-47a5-e668-a4eb47d4e545"
      },
      "execution_count": null,
      "outputs": [
        {
          "output_type": "stream",
          "name": "stdout",
          "text": [
            "Matrix:\n",
            "[[32 34 37 32 36]\n",
            " [41 42 57 52 13]\n",
            " [71 24 65 73 31]\n",
            " [31 89 13 54 14]]\n",
            "\n",
            "Shape:\t(4, 5)\n",
            "Rank:\t2\n",
            "\n"
          ]
        }
      ]
    },
    {
      "cell_type": "code",
      "source": [
        "R = np.array([\n",
        "    [31, 32, 33, 34, 35],\n",
        "    [43, 42, 50, 57, 13],\n",
        "    [72, 24, 65, 73, 39],\n",
        "    [51, 89, 13, 74, 54]\n",
        "  ]) \n",
        "describe_mat(R)\n"
      ],
      "metadata": {
        "colab": {
          "base_uri": "https://localhost:8080/"
        },
        "id": "SuIQLQAx8uoL",
        "outputId": "da977950-934e-45ca-f8d0-2e0ae3f3fd5d"
      },
      "execution_count": null,
      "outputs": [
        {
          "output_type": "stream",
          "name": "stdout",
          "text": [
            "Matrix:\n",
            "[[31 32 33 34 35]\n",
            " [43 42 50 57 13]\n",
            " [72 24 65 73 39]\n",
            " [51 89 13 74 54]]\n",
            "\n",
            "Shape:\t(4, 5)\n",
            "Rank:\t2\n",
            "\n"
          ]
        }
      ]
    },
    {
      "cell_type": "markdown",
      "source": [
        "## Categorizing Matrices"
      ],
      "metadata": {
        "id": "P6MfLDnXfVoQ"
      }
    },
    {
      "cell_type": "code",
      "source": [
        "## Declaring a Row Matrix\n",
        "\n",
        "row_mat_1D = np.array([\n",
        "    5, 10, 15\n",
        "]) ## this is a 1-D Matrix with a shape of (3,), it's not really considered as a row matrix.\n",
        "row_mat_2D = np.array([\n",
        "    [10,20,30]\n",
        "]) ## this is a 2-D Matrix with a shape of (1,3)\n",
        "describe_mat(row_mat_1D)\n",
        "describe_mat(row_mat_2D)"
      ],
      "metadata": {
        "colab": {
          "base_uri": "https://localhost:8080/"
        },
        "id": "c-TiPQ-lfhNX",
        "outputId": "711b4801-be85-44df-889d-8d7c3ae99ec1"
      },
      "execution_count": null,
      "outputs": [
        {
          "output_type": "stream",
          "name": "stdout",
          "text": [
            "Matrix:\n",
            "[ 5 10 15]\n",
            "\n",
            "Shape:\t(3,)\n",
            "Rank:\t1\n",
            "\n",
            "Matrix:\n",
            "[[10 20 30]]\n",
            "\n",
            "Shape:\t(1, 3)\n",
            "Rank:\t2\n",
            "\n"
          ]
        }
      ]
    },
    {
      "cell_type": "code",
      "source": [
        "## Declaring a column matrix\n",
        "\n",
        "colmat = np.array([\n",
        "    [3],\n",
        "    [5],\n",
        "    [7]\n",
        "]) ## This is a 2-D Matrix with a shape of (3, 1)\n",
        "describe_mat(colmat)"
      ],
      "metadata": {
        "id": "S6-_wpyMlsvc"
      },
      "execution_count": null,
      "outputs": []
    },
    {
      "cell_type": "markdown",
      "source": [
        "##### Square Matrix\n",
        "Square matrices are matrices that have the same row and column sizes. We could say a matrix is square if . We can tweak our matrix descriptor function to determine square matrices."
      ],
      "metadata": {
        "id": "9l9z1MItlxtr"
      }
    },
    {
      "cell_type": "code",
      "source": [
        "def describe_mat(matrix):\n",
        "    is_square = True if matrix.shape[0] == matrix.shape[1] else False                                                     \n",
        "    print(f'Matrix:\\n{matrix}\\n\\nShape:\\t{matrix.shape}\\nRank:\\t{matrix.ndim}\\nIs Square: {is_square}\\n')"
      ],
      "metadata": {
        "id": "5-hOPzATlyQS"
      },
      "execution_count": null,
      "outputs": []
    },
    {
      "cell_type": "code",
      "source": [
        "square_mat = np.array([\n",
        "  [5, 3, 2, 1],\n",
        "  [3, 2, 4, 9],\n",
        "  [8, 4, 7, 5],\n",
        "  [4, 8, 9, 1]\n",
        "])\n",
        "not_square_mat = np.array([\n",
        "  [3, 4, 1, 4],\n",
        "  [9, 6, 1, 3]\n",
        "])\n",
        "describe_mat (square_mat)\n",
        "describe_mat (not_square_mat)"
      ],
      "metadata": {
        "id": "f9rZFtDqlz9b"
      },
      "execution_count": null,
      "outputs": []
    },
    {
      "cell_type": "markdown",
      "source": [
        "##### Null Matrix\n",
        "A Null Matrix is a matrix that has no elements. It is always a subspace of any vector or matrix."
      ],
      "metadata": {
        "id": "nNFAK0JOl2Ut"
      }
    },
    {
      "cell_type": "code",
      "source": [
        "def describe_mat(matrix):\n",
        "  if matrix.size > 0:\n",
        "    is_square - True if matrix.shape[0] -- matrix.shape[1] else False\n",
        "    print(f'Matrix:\\n{matrix}\\n\\nShape:\\t{matrix.shape}\\nRank:\\t{matrix.ndim}\\nIs Square: {is_square}\\n')\n",
        "  else:\n",
        "    print('Matrix is Null.')"
      ],
      "metadata": {
        "id": "FWdc9HZul4Bz"
      },
      "execution_count": null,
      "outputs": []
    },
    {
      "cell_type": "code",
      "source": [
        "null_mat = np.array([])\n",
        "describe_mat(null_mat)"
      ],
      "metadata": {
        "id": "SwTbKigyl63T"
      },
      "execution_count": null,
      "outputs": []
    },
    {
      "cell_type": "markdown",
      "source": [
        "##### Zero Matrix"
      ],
      "metadata": {
        "id": "E5PGLuU_l-i9"
      }
    },
    {
      "cell_type": "code",
      "source": [
        "zero_mat_row = np.zeros ((1,2))\n",
        "zero_mat_sqr = np.zeros ((2,2))\n",
        "zero_mat_rct = np.zeros ((3,2))\n",
        "\n",
        "print(f'Zero Row Matrix: \\n{zero_mat_row}')\n",
        "print(f'Zero Square Matrix: \\n{zero_mat_sqr}')\n",
        "print(f'Zero Rectangular Matrix: \\n{zero_mat_rct}')"
      ],
      "metadata": {
        "id": "XTDmetJul_XN"
      },
      "execution_count": null,
      "outputs": []
    }
  ]
}