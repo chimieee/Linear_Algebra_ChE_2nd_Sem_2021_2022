{
  "nbformat": 4,
  "nbformat_minor": 0,
  "metadata": {
    "colab": {
      "name": "Matrix in Python",
      "provenance": [],
      "collapsed_sections": [],
      "authorship_tag": "ABX9TyM4eIyIizByhjZNfn3uyfTl",
      "include_colab_link": true
    },
    "kernelspec": {
      "name": "python3",
      "display_name": "Python 3"
    },
    "language_info": {
      "name": "python"
    }
  },
  "cells": [
    {
      "cell_type": "markdown",
      "metadata": {
        "id": "view-in-github",
        "colab_type": "text"
      },
      "source": [
        "<a href=\"https://colab.research.google.com/github/chimieee/Linear_Algebra_ChE_2nd_Sem_2021_2022/blob/main/Matrix_in_Python.ipynb\" target=\"_parent\"><img src=\"https://colab.research.google.com/assets/colab-badge.svg\" alt=\"Open In Colab\"/></a>"
      ]
    },
    {
      "cell_type": "markdown",
      "source": [
        "#Linear Algebra for ChE\n",
        "##Assignment 3: Matrices"
      ],
      "metadata": {
        "id": "klp67CfIYg8J"
      }
    },
    {
      "cell_type": "markdown",
      "source": [
        "\n",
        "\n",
        "We'll try to look into further depth keeping in mind the basic understanding of Python.\n",
        "\n"
      ],
      "metadata": {
        "id": "FK7EVKnVTCdM"
      }
    },
    {
      "cell_type": "markdown",
      "source": [
        "###Objectives\n",
        "At the end of this activity you will be able to:\n",
        "1. Perform basic matrix computations. \n",
        "2. Understand matrices and how they relate to linear equations. \n",
        "3. Interpret and utilize matrix equations and operations."
      ],
      "metadata": {
        "id": "MuIUtu7gY46n"
      }
    },
    {
      "cell_type": "markdown",
      "source": [
        "# Discussion"
      ],
      "metadata": {
        "id": "yLszoNGfUVv0"
      }
    },
    {
      "cell_type": "code",
      "source": [
        "import numpy as np\n",
        "import matplotlib.pyplot as plt\n",
        "import scipy.linalg as la\n",
        "%matplotlib inline"
      ],
      "metadata": {
        "id": "JTr1SYF4UwFj"
      },
      "execution_count": null,
      "outputs": []
    },
    {
      "cell_type": "markdown",
      "source": [
        ":$$\n",
        "A=\\begin{bmatrix}\\ 1 & 1 \\\\ 4 & {-10}\\end{bmatrix} \\\\\n",
        "B=\\begin{bmatrix}\\ 1 & 1 & 1 \\\\ 3 & -2 & -1 \\\\ -1 & 4 & 2\\end\n",
        "{bmatrix}\\\\\n",
        "C=\\begin{bmatrix}\\ 1 & -2 & 3 & -4 \\\\ 3 & -1 & -2 & 1 \\\\ 2 & -1 & 3 & -2\\end{bmatrix} \n",
        "$$\n",
        "\n",
        "\n"
      ],
      "metadata": {
        "id": "g6wHuEzK0vVJ"
      }
    },
    {
      "cell_type": "code",
      "source": [
        "## Since we'll keep on describing matrices. Let's make a function.\n",
        "def describe_mat(matrix):\n",
        "    print(f'Matrix:\\n{matrix}\\n\\nShape:\\t{matrix.shape}\\nRank:\\t{matrix.ndim}\\n')"
      ],
      "metadata": {
        "id": "EPVr4rPq2drI"
      },
      "execution_count": null,
      "outputs": []
    },
    {
      "cell_type": "code",
      "source": [
        "## Declaring a 4 x 5 matrix\n",
        "L = np.array ([\n",
        "    [96, 68, 33, 39, 51],\n",
        "    [60, 19 ,30, 45, 86],\n",
        "    [62, 57, 68, 93, 31],\n",
        "    [57, 23, 19, 58, 23]\n",
        "])\n",
        "describe_mat(L)"
      ],
      "metadata": {
        "colab": {
          "base_uri": "https://localhost:8080/"
        },
        "id": "tvtBsfRH3RXG",
        "outputId": "8d4b0ba7-e654-4a31-a52a-e40e1d40a27d"
      },
      "execution_count": null,
      "outputs": [
        {
          "output_type": "stream",
          "name": "stdout",
          "text": [
            "Matrix:\n",
            "[[96 68 33 39 51]\n",
            " [60 19 30 45 86]\n",
            " [62 57 68 93 31]\n",
            " [57 23 19 58 23]]\n",
            "\n",
            "Shape:\t(4, 5)\n",
            "Rank:\t2\n",
            "\n"
          ]
        }
      ]
    },
    {
      "cell_type": "code",
      "source": [
        "N = np.array([[[\n",
        "    [31, 32, 33, 34, 35],\n",
        "    [41, 42, 53, 53, 13],\n",
        "    [71, 24, 65, 73, 31],\n",
        "    [31, 89, 13, 54, 14]\n",
        "]]])\n",
        "describe_mat(N)"
      ],
      "metadata": {
        "colab": {
          "base_uri": "https://localhost:8080/"
        },
        "id": "5I_DSODj8l3f",
        "outputId": "6d5c1a46-feed-40d9-d14f-bce2ceb41e28"
      },
      "execution_count": null,
      "outputs": [
        {
          "output_type": "stream",
          "name": "stdout",
          "text": [
            "Matrix:\n",
            "[[[[31 32 33 34 35]\n",
            "   [41 42 53 53 13]\n",
            "   [71 24 65 73 31]\n",
            "   [31 89 13 54 14]]]]\n",
            "\n",
            "Shape:\t(1, 1, 4, 5)\n",
            "Rank:\t4\n",
            "\n"
          ]
        }
      ]
    },
    {
      "cell_type": "code",
      "source": [
        "E = np.array([\n",
        "    [81, 92, 73, 44, 35],\n",
        "    [11, 22, 13, 63, 73],\n",
        "    [71, 54, 45, 23, 41],\n",
        "    [71, 89, 13, 84, 34]\n",
        "])\n",
        "describe_mat(E)"
      ],
      "metadata": {
        "colab": {
          "base_uri": "https://localhost:8080/"
        },
        "id": "t4tpxE-P3azZ",
        "outputId": "0b3dfbb8-2b93-475c-d4f4-2931ff8bd50f"
      },
      "execution_count": null,
      "outputs": [
        {
          "output_type": "stream",
          "name": "stdout",
          "text": [
            "Matrix:\n",
            "[[81 92 73 44 35]\n",
            " [11 22 13 63 73]\n",
            " [71 54 45 23 41]\n",
            " [71 89 13 84 34]]\n",
            "\n",
            "Shape:\t(4, 5)\n",
            "Rank:\t2\n",
            "\n"
          ]
        }
      ]
    },
    {
      "cell_type": "code",
      "source": [
        "A = np.array([\n",
        "    [32, 34, 37, 32, 36],\n",
        "    [41, 42, 57, 52, 13],\n",
        "    [71, 24, 65, 73, 31],\n",
        "    [31, 89, 13, 54, 14]\n",
        "])\n",
        "describe_mat(A)"
      ],
      "metadata": {
        "colab": {
          "base_uri": "https://localhost:8080/"
        },
        "id": "q4lykBho8rBU",
        "outputId": "5dd89d01-bf44-47a5-e668-a4eb47d4e545"
      },
      "execution_count": null,
      "outputs": [
        {
          "output_type": "stream",
          "name": "stdout",
          "text": [
            "Matrix:\n",
            "[[32 34 37 32 36]\n",
            " [41 42 57 52 13]\n",
            " [71 24 65 73 31]\n",
            " [31 89 13 54 14]]\n",
            "\n",
            "Shape:\t(4, 5)\n",
            "Rank:\t2\n",
            "\n"
          ]
        }
      ]
    },
    {
      "cell_type": "code",
      "source": [
        "R = np.array([\n",
        "    [31, 32, 33, 34, 35],\n",
        "    [43, 42, 50, 57, 13],\n",
        "    [72, 24, 65, 73, 39],\n",
        "    [51, 89, 13, 74, 54]\n",
        "  ]) \n",
        "describe_mat(R)\n"
      ],
      "metadata": {
        "colab": {
          "base_uri": "https://localhost:8080/"
        },
        "id": "SuIQLQAx8uoL",
        "outputId": "da977950-934e-45ca-f8d0-2e0ae3f3fd5d"
      },
      "execution_count": null,
      "outputs": [
        {
          "output_type": "stream",
          "name": "stdout",
          "text": [
            "Matrix:\n",
            "[[31 32 33 34 35]\n",
            " [43 42 50 57 13]\n",
            " [72 24 65 73 39]\n",
            " [51 89 13 74 54]]\n",
            "\n",
            "Shape:\t(4, 5)\n",
            "Rank:\t2\n",
            "\n"
          ]
        }
      ]
    },
    {
      "cell_type": "markdown",
      "source": [
        "## Categorizing Matrices"
      ],
      "metadata": {
        "id": "P6MfLDnXfVoQ"
      }
    },
    {
      "cell_type": "code",
      "source": [
        "## Declaring a Row Matrix\n",
        "\n",
        "row_mat_1D = np.array([\n",
        "    5, 10, 15\n",
        "]) ## this is a 1-D Matrix with a shape of (3,), it's not really considered as a row matrix.\n",
        "row_mat_2D = np.array([\n",
        "    [10,20,30]\n",
        "]) ## this is a 2-D Matrix with a shape of (1,3)\n",
        "describe_mat(row_mat_1D)\n",
        "describe_mat(row_mat_2D)"
      ],
      "metadata": {
        "colab": {
          "base_uri": "https://localhost:8080/"
        },
        "id": "c-TiPQ-lfhNX",
        "outputId": "711b4801-be85-44df-889d-8d7c3ae99ec1"
      },
      "execution_count": null,
      "outputs": [
        {
          "output_type": "stream",
          "name": "stdout",
          "text": [
            "Matrix:\n",
            "[ 5 10 15]\n",
            "\n",
            "Shape:\t(3,)\n",
            "Rank:\t1\n",
            "\n",
            "Matrix:\n",
            "[[10 20 30]]\n",
            "\n",
            "Shape:\t(1, 3)\n",
            "Rank:\t2\n",
            "\n"
          ]
        }
      ]
    },
    {
      "cell_type": "code",
      "source": [
        "## Declaring a column matrix\n",
        "\n",
        "colmat = np.array([\n",
        "    [3],\n",
        "    [5],\n",
        "    [7]\n",
        "]) ## This is a 2-D Matrix with a shape of (3, 1)\n",
        "describe_mat(colmat)"
      ],
      "metadata": {
        "id": "S6-_wpyMlsvc"
      },
      "execution_count": null,
      "outputs": []
    },
    {
      "cell_type": "markdown",
      "source": [
        "##### Square Matrix\n",
        "Square matrices are matrices that have the same row and column sizes. We could say a matrix is square if . We can tweak our matrix descriptor function to determine square matrices."
      ],
      "metadata": {
        "id": "9l9z1MItlxtr"
      }
    },
    {
      "cell_type": "code",
      "source": [
        "def describe_mat(matrix):\n",
        "    is_square = True if matrix.shape[0] == matrix.shape[1] else False                                                     \n",
        "    print(f'Matrix:\\n{matrix}\\n\\nShape:\\t{matrix.shape}\\nRank:\\t{matrix.ndim}\\nIs Square: {is_square}\\n')"
      ],
      "metadata": {
        "id": "5-hOPzATlyQS"
      },
      "execution_count": null,
      "outputs": []
    },
    {
      "cell_type": "code",
      "source": [
        "square_mat = np.array([\n",
        "  [5, 3, 2, 1],\n",
        "  [3, 2, 4, 9],\n",
        "  [8, 4, 7, 5],\n",
        "  [4, 8, 9, 1]\n",
        "])\n",
        "not_square_mat = np.array([\n",
        "  [3, 4, 1, 4],\n",
        "  [9, 6, 1, 3]\n",
        "])\n",
        "describe_mat (square_mat)\n",
        "describe_mat (not_square_mat)"
      ],
      "metadata": {
        "id": "f9rZFtDqlz9b"
      },
      "execution_count": null,
      "outputs": []
    },
    {
      "cell_type": "markdown",
      "source": [
        "##### Null Matrix\n",
        "A Null Matrix is a matrix that has no elements. It is always a subspace of any vector or matrix."
      ],
      "metadata": {
        "id": "nNFAK0JOl2Ut"
      }
    },
    {
      "cell_type": "code",
      "source": [
        "def describe_mat(matrix):\n",
        "  if matrix.size > 0:\n",
        "    is_square - True if matrix.shape[0] -- matrix.shape[1] else False\n",
        "    print(f'Matrix:\\n{matrix}\\n\\nShape:\\t{matrix.shape}\\nRank:\\t{matrix.ndim}\\nIs Square: {is_square}\\n')\n",
        "  else:\n",
        "    print('Matrix is Null.')"
      ],
      "metadata": {
        "id": "FWdc9HZul4Bz"
      },
      "execution_count": null,
      "outputs": []
    },
    {
      "cell_type": "code",
      "source": [
        "null_mat = np.array([])\n",
        "describe_mat(null_mat)"
      ],
      "metadata": {
        "id": "SwTbKigyl63T"
      },
      "execution_count": null,
      "outputs": []
    },
    {
      "cell_type": "markdown",
      "source": [
        "##### Zero Matrix"
      ],
      "metadata": {
        "id": "E5PGLuU_l-i9"
      }
    },
    {
      "cell_type": "code",
      "source": [
        "zero_mat_row = np.zeros ((1,2))\n",
        "zero_mat_sqr = np.zeros ((2,2))\n",
        "zero_mat_rct = np.zeros ((3,2))\n",
        "\n",
        "print(f'Zero Row Matrix: \\n{zero_mat_row}')\n",
        "print(f'Zero Square Matrix: \\n{zero_mat_sqr}')\n",
        "print(f'Zero Rectangular Matrix: \\n{zero_mat_rct}')"
      ],
      "metadata": {
        "id": "XTDmetJul_XN"
      },
      "execution_count": null,
      "outputs": []
    },
    {
      "cell_type": "markdown",
      "source": [
        "####Ones Matrix\n"
      ],
      "metadata": {
        "id": "rpcq7AU5s0JY"
      }
    },
    {
      "cell_type": "code",
      "source": [
        "## Ones Matrix -  to get the identity\n",
        "\n",
        "ones_mat_row = np.ones ((1,2))\n",
        "ones_mat_sqr = np.ones ((2,2))\n",
        "ones_mat_rct = np.ones ((3,2))\n",
        "\n",
        "print(f'Ones Row Matrix: \\n{ones_mat_row}')\n",
        "print(f'Ones Square Matrix: \\n{ones_mat_sqr}')\n",
        "print(f'Ones Rectangular Matrix: \\n{ones_mat_rct}')"
      ],
      "metadata": {
        "id": "II4hkPuzs0zz"
      },
      "execution_count": null,
      "outputs": []
    },
    {
      "cell_type": "markdown",
      "source": [
        "#### Diagonal Matrix\n"
      ],
      "metadata": {
        "id": "5FyKY5IEs4xL"
      }
    },
    {
      "cell_type": "code",
      "source": [
        "## Diagonal Matrix\n",
        "np.array([\n",
        "   [2, 0, 0],\n",
        "   [0, 2, 0],\n",
        "   [0, 0, 2]\n",
        "])\n",
        "# a[1,1], a[2,2], a[3,3], ... a[n-1, n-1]"
      ],
      "metadata": {
        "id": "xntL5Dlzs5y9"
      },
      "execution_count": null,
      "outputs": []
    },
    {
      "cell_type": "code",
      "source": [
        "#Other way to declare a diagonal matrix\n",
        "d = np.diag([1, 9, 9, 7])\n",
        "d"
      ],
      "metadata": {
        "id": "VTVO8qXYs7gM"
      },
      "execution_count": null,
      "outputs": []
    },
    {
      "cell_type": "markdown",
      "source": [
        "####Identity Matrix"
      ],
      "metadata": {
        "id": "R0IPXX_qs-mE"
      }
    },
    {
      "cell_type": "code",
      "source": [
        "#Identity Matrix\n",
        "np.eye(3)"
      ],
      "metadata": {
        "id": "kgNwRI9Ss_Ij"
      },
      "execution_count": null,
      "outputs": []
    },
    {
      "cell_type": "code",
      "source": [
        "#Other way to Declare an Identity Matrix\n",
        "np.identity(7)"
      ],
      "metadata": {
        "id": "FXVXeu3ys_O-"
      },
      "execution_count": null,
      "outputs": []
    },
    {
      "cell_type": "markdown",
      "source": [
        "####Upper Triangular Matrix"
      ],
      "metadata": {
        "id": "_MQFC8DNtDT1"
      }
    },
    {
      "cell_type": "code",
      "source": [
        "#Upper Triangular Matrix\n",
        "np.array([\n",
        "  [9, 0, 0, 0],\n",
        "  [1, 3, 0, 0],\n",
        "  [5, 3, 1, 0],\n",
        "  [1, 3, 6, 8]\n",
        "])"
      ],
      "metadata": {
        "id": "AEFZvt4GtDyI"
      },
      "execution_count": null,
      "outputs": []
    },
    {
      "cell_type": "code",
      "source": [
        "#Other Way to Declare Upper Triangular Matrix \n",
        "M = np.array([\n",
        "    [32, -65, 15, -69, 20],\n",
        "    [32, -65, 15, -69, 20],\n",
        "    [32, -65, 15, -69, 20],\n",
        "    [32, -65, 15, -69, 20],\n",
        "    [32, -65, 15, -69, 20]\n",
        "])\n",
        "np. triu(E)\n"
      ],
      "metadata": {
        "id": "SVgqCh5UtF0V"
      },
      "execution_count": null,
      "outputs": []
    },
    {
      "cell_type": "markdown",
      "source": [
        "####Lower Triangular Matrix"
      ],
      "metadata": {
        "id": "aKlrIQnUtH1M"
      }
    },
    {
      "cell_type": "code",
      "source": [
        "#Lower Triangular Matrix \n",
        "np.array([\n",
        "  [42, 0, 0, 0],\n",
        "  [69, 42, 0, 0,],\n",
        "  [69, 42, 42, 0],\n",
        "  [69, 69, 69, 69]\n",
        "])"
      ],
      "metadata": {
        "id": "-jZHR5u3tJQN"
      },
      "execution_count": null,
      "outputs": []
    },
    {
      "cell_type": "code",
      "source": [
        "#Other Way to Declare a Lower Triangular Matrix\n",
        "np.tril (M)"
      ],
      "metadata": {
        "id": "xohdFlextKzt"
      },
      "execution_count": null,
      "outputs": []
    },
    {
      "cell_type": "markdown",
      "source": [
        "#Practice"
      ],
      "metadata": {
        "id": "cl1dCGC9tMdv"
      }
    },
    {
      "cell_type": "markdown",
      "source": [
        "Given the linear combination below, try to create a corresponding matrix representing it.\n",
        "\n",
        "$$\n",
        "\\theta = 5x + 3y -z\n",
        "$$"
      ],
      "metadata": {
        "id": "jJuzvkvGtNCI"
      }
    },
    {
      "cell_type": "markdown",
      "source": [
        "Given the system of linear combinations below, try to encode it as a matrix. Also describe the matrix.\n",
        "\n",
        "$$\n",
        "A = \\left\\{\n",
        "    \\begin{array}\\\n",
        "    x_1 + 2x_2 + x_3 \\\\\n",
        "    4x_2 - x_3 \\\\\n",
        "    10x_3\n",
        "    \\end{array}\n",
        "\\right. \n",
        "$$"
      ],
      "metadata": {
        "id": "O8tX1TUktQzt"
      }
    },
    {
      "cell_type": "code",
      "source": [
        "def describe_mat(matrix):\n",
        "    print(f'Matrix:\\n{matrix}\\n\\nShape:\\t{matrix.shape}\\nRank:\\t{matrix.ndim}\\n')\n",
        "A = np.array ([\n",
        "    [1, 2, 1],\n",
        "    [-1, 4, 0],\n",
        "    [10, 0 ,0]\n",
        "])\n",
        "A\n",
        "describe_mat(A)"
      ],
      "metadata": {
        "id": "nBLmtUF0tS1O"
      },
      "execution_count": null,
      "outputs": []
    },
    {
      "cell_type": "markdown",
      "source": [
        "Given the matrix below, express it as a linear combination in a markdown.\n",
        "\n",
        "G = np.array([ <br>\n",
        "    [1,7,8], <br>\n",
        "    [2,2,2], <br>\n",
        "    [4,6,7] <br>\n",
        "])\n",
        "\n",
        ":$$\n",
        "G=\\begin{bmatrix} 1 & 7 & 8 \\\\ 2 & 2 & 2 \\\\ 4 & 6 &7\\end{bmatrix} \\\\\n",
        "$$\n",
        "\n",
        "\n",
        "$$\n",
        "G = \\left\\{\n",
        "    \\begin{array}\\\n",
        "    x_1 + 7x_2 + 8x_3\\\\\n",
        "    2x_1 + 2x_2 + 2x_3 \\\\\n",
        "    4x_1 + 6x_2 + 7x_3\n",
        "    \\end{array}\n",
        "\\right. \n",
        "$$"
      ],
      "metadata": {
        "id": "lfSBQTu7tUtF"
      }
    },
    {
      "cell_type": "markdown",
      "source": [
        "Given the matrix below, display the output as a LaTeX makdown also express it as a system of linear combinations. <br>\n",
        "H = np.tril(G) <br>\n",
        "H\n",
        "\n",
        "array([[1, 0, 0], <br>\n",
        "       [2, 2, 0], <br>\n",
        "       [4, 6, 7]]) <br>\n",
        "\n",
        ":$$\n",
        "H=\\begin{bmatrix} 1 & 0 & 0 \\\\ 2 & 2 & 0 \\\\ 4 & 6 &7\\end{bmatrix} \\\\\n",
        "$$\n",
        "\n",
        "$$\n",
        "H = \\left\\{\n",
        "    \\begin{array}\\\n",
        "    x_1  \\\\\n",
        "    2x_1 - 2x_2 \\\\\n",
        "    4x_1 + 6x_2 + 7x_3\n",
        "    \\end{array}\n",
        "\\right. \n",
        "$$"
      ],
      "metadata": {
        "id": "XFqnDCShtWZ2"
      }
    },
    {
      "cell_type": "markdown",
      "source": [
        "#### Matrix Algebra\n",
        "\n"
      ],
      "metadata": {
        "id": "XKhNBdCGtYul"
      }
    },
    {
      "cell_type": "markdown",
      "source": [
        "#####Addition"
      ],
      "metadata": {
        "id": "QvVqJ3hYtZNU"
      }
    },
    {
      "cell_type": "code",
      "source": [
        "#Declaring Matrix M and J and Addition of Matrices\n",
        "M = np.array([\n",
        "     [8, 24],\n",
        "     [5, 0],\n",
        "     [32, 10]\n",
        "])\n",
        "J = np.array([\n",
        "     [12, 15],\n",
        "     [0, 0],\n",
        "     [23, 65]\n",
        "])\n",
        "M+J"
      ],
      "metadata": {
        "id": "8ITdVhcWta_-"
      },
      "execution_count": null,
      "outputs": []
    },
    {
      "cell_type": "code",
      "source": [
        "3+M ####Broadcasting\n",
        "#3*np.ones(J.shape)+M"
      ],
      "metadata": {
        "id": "gdddH0EwtdO3"
      },
      "execution_count": null,
      "outputs": []
    },
    {
      "cell_type": "code",
      "source": [
        "#Other Way to Perform Addition of Matrices\n",
        "np.add(M,J)"
      ],
      "metadata": {
        "id": "7jN_ckV6teSF"
      },
      "execution_count": null,
      "outputs": []
    },
    {
      "cell_type": "markdown",
      "source": [
        "#####Subtraction"
      ],
      "metadata": {
        "id": "9FATbshAtfsw"
      }
    },
    {
      "cell_type": "code",
      "source": [
        "#Subtraction of Matrices\n",
        "M-J"
      ],
      "metadata": {
        "id": "HTBI_H3MtgI9"
      },
      "execution_count": null,
      "outputs": []
    },
    {
      "cell_type": "code",
      "source": [
        "2-M\n",
        "#2*np.ones(M.shape)-J"
      ],
      "metadata": {
        "id": "vtUCfLIethZn"
      },
      "execution_count": null,
      "outputs": []
    },
    {
      "cell_type": "markdown",
      "source": [
        "#####Element-wise Multiplication"
      ],
      "metadata": {
        "id": "On3T4TR9tjjz"
      }
    },
    {
      "cell_type": "code",
      "source": [
        "#Element-wise Multiplication\n",
        "M*J\n",
        "#np.multiply(M,J)"
      ],
      "metadata": {
        "id": "lp6EkY5Etk0-"
      },
      "execution_count": null,
      "outputs": []
    },
    {
      "cell_type": "markdown",
      "source": [
        "#####Element-wise Division"
      ],
      "metadata": {
        "id": "ZSDxA08htpLb"
      }
    },
    {
      "cell_type": "code",
      "source": [
        "#Element-wise Division\n",
        "M/J"
      ],
      "metadata": {
        "id": "IzMvN0QvtrNf"
      },
      "execution_count": null,
      "outputs": []
    },
    {
      "cell_type": "code",
      "source": [
        "#Division Involving Matrices\n",
        "omega=10**-2\n",
        "M/(omega+J)"
      ],
      "metadata": {
        "id": "DWrJpv7MtuLU"
      },
      "execution_count": null,
      "outputs": []
    },
    {
      "cell_type": "markdown",
      "source": [
        "#Activity\n",
        "This part is where we are given an output that involves our learnings about Matrices in Python"
      ],
      "metadata": {
        "id": "01wT0zGAtvkz"
      }
    },
    {
      "cell_type": "markdown",
      "source": [
        "####Task 1\n",
        "Create a function named mat_desc() that througouhly describes a matrix, it should:\n",
        "\n",
        "Displays the shape, size, and rank of the matrix.<br>\n",
        "Displays whether the matrix is square or non-square.<br>\n",
        "Displays whether the matrix is an empty matrix.<br>\n",
        "Displays if the matrix is an identity, ones, or zeros matrix\n",
        "\n",
        "Use 5 sample matrices in which their shapes are not lower than (3,3) . In your methodology, create a flowchart discuss the functions and methods you have done. Present your results in the results section showing the description of each matrix you have declared."
      ],
      "metadata": {
        "id": "vRe1RqnGtxZb"
      }
    },
    {
      "cell_type": "code",
      "source": [
        "## Function Area \n",
        "import numpy as np\n",
        "import matplotlib.pyplot as plt\n",
        "import scipy.linalg as la\n",
        "%matplotlib inline\n",
        "def describe_mat(matrix):\n",
        "  if matrix.size > 0:\n",
        "    if matrix.shape[0] == matrix.shape[1]:\n",
        "      is_square = True\n",
        "    else: \n",
        "      is_square = False\n",
        "    if np.all(matrix == np.identity(matrix.shape[0])):\n",
        "      sp = \"Identity Matrix\"\n",
        "    elif np.all(matrix == np.zeros(matrix.shape)):\n",
        "      sp = \"Zero Matrix.\"\n",
        "    elif np.all(matrix == np.ones(matrix.shape)):\n",
        "      sp = \"Ones Matrix.\"\n",
        "    else:\n",
        "      sp = \"None.\"\n",
        "    print(f'Matrix:\\n{matrix}\\n\\nShape:\\t{matrix.shape}\\nRank:\\t{matrix.ndim}\\nIs Square: {is_square}\\n')\n",
        "  else:\n",
        "    print('Matrix is Null.')\n",
        "  \n",
        "    "
      ],
      "metadata": {
        "id": "jOJ3o9gKty0b"
      },
      "execution_count": null,
      "outputs": []
    },
    {
      "cell_type": "code",
      "source": [
        "## Matrix Declarations\n",
        "L = np.array([[[[\n",
        "    [96, 68, 33, 39, 51],\n",
        "    [60, 19 ,30, 45, 86],\n",
        "    [62, 57, 68, 93, 31],\n",
        "    [57, 23, 19, 58, 23]\n",
        "]]]])\n",
        "\n",
        "N = np.array([[[\n",
        "    [31, 32, 33, 34, 35],\n",
        "    [41, 42, 53, 53, 13],\n",
        "    [71, 24, 65, 73, 31],\n",
        "    [31, 89, 13, 54, 14]\n",
        "]]])\n",
        "\n",
        "E = np.array([[\n",
        "    [81, 92, 73, 44, 35],\n",
        "    [11, 22, 13, 63, 73],\n",
        "    [71, 54, 45, 23, 41],\n",
        "    [71, 89, 13, 84, 34]\n",
        "]])\n",
        "\n",
        "A = np.array([\n",
        "    [32, 34, 37, 32, 36],\n",
        "    [41, 42, 57, 52, 13],\n",
        "    [71, 24, 65, 73, 31],\n",
        "    [31, 89, 13, 54, 14]\n",
        "])\n",
        "\n",
        "R = np.array([\n",
        "    [31, 32, 33, 34, 35],\n",
        "    [43, 42, 50, 57, 13],\n",
        "    [72, 24, 65, 73, 39],\n",
        "    [51, 89, 13, 74, 54]\n",
        "  ]) "
      ],
      "metadata": {
        "id": "_0-zQA5It0Kt"
      },
      "execution_count": null,
      "outputs": []
    },
    {
      "cell_type": "code",
      "source": [
        "## Test Areas \n",
        "\n",
        "describe_mat(L)\n",
        "\n",
        "describe_mat(N)\n",
        "\n",
        "describe_mat(E)\n",
        "\n",
        "describe_mat(A)\n",
        "\n",
        "describe_mat(R)"
      ],
      "metadata": {
        "id": "TEE-8x7bt1vD"
      },
      "execution_count": null,
      "outputs": []
    },
    {
      "cell_type": "markdown",
      "source": [
        "###Task 2\n",
        "Create a function named mat_operations() that takes in two matrices a input parameters it should:\n",
        "\n",
        "Determines if the matrices are viable for operation and returns your own error message if they are not viable.<br>\n",
        "Returns the sum of the matrices.<br>\n",
        "Returns the differen of the matrices.<br>\n",
        "Returns the element-wise multiplication of the matrices.<br>\n",
        "\n",
        "Returns the element-wise division of the matrices.\n",
        "Use 5 sample matrices in which their shapes are not lower than (3,3). In your methodology, create a flowchart discuss the functions and methods you have done. Present your results in the results section showing the description of each matrix you have declared."
      ],
      "metadata": {
        "id": "BwTabVPft5Xs"
      }
    },
    {
      "cell_type": "code",
      "source": [
        "## Function Area\n",
        "import numpy as np\n",
        "def mat_operation(L, N):\n",
        "  print(f'Matrix 1:\\n {M} \\n')\n",
        "  print(f'Matrix 2:\\n {J} \\n')\n",
        "\n",
        "\n",
        "  if(M.shape != J.shape):\n",
        "    print('The shape of both matrices are not same. The system could not perform any operation.')\n",
        "    return\n",
        "\n",
        "  plus = M + J\n",
        "  print(f'Sum of the chosen matrices:\\n {plus} \\n')\n",
        "\n",
        "  minus = M - J\n",
        "  print(f'Difference of the chosen matrices:\\n {minus} \\n')\n",
        "\n",
        "  matpro = np.multiply(M, J)\n",
        "  print(f'Element-wise multiplication of the chosen matrices:\\n {matpro} \\n')\n",
        "\n",
        "  matdiv = np.divide(M, J)\n",
        "  print(f'Element-wise division of the chosen matrices:\\n {matdiv} \\n')"
      ],
      "metadata": {
        "id": "syxdKFP7t6kM"
      },
      "execution_count": null,
      "outputs": []
    },
    {
      "cell_type": "code",
      "source": [
        "## Matrix Declarations\n",
        "M = np.array([\n",
        "     [8, 24],\n",
        "     [5, 0],\n",
        "     [32, 10]\n",
        "])\n",
        "J = np.array([\n",
        "     [12, 15],\n",
        "     [0, 0],\n",
        "     [23, 65]\n",
        "])"
      ],
      "metadata": {
        "id": "0WpwQZ1Vt77c"
      },
      "execution_count": null,
      "outputs": []
    },
    {
      "cell_type": "code",
      "source": [
        "## Test Areas\n",
        "mat_operation(M, J)"
      ],
      "metadata": {
        "id": "hbxEbYGZt9kK"
      },
      "execution_count": null,
      "outputs": []
    },
    {
      "cell_type": "markdown",
      "source": [
        "#Conclusion\n",
        "In mathematics and other fields, matrix operations are commonly employed. It can be used to solve linear equations. They can be used to solve problems concerning dynamics, motion equations, and other topics. They're useful in sensor array signal processing and adaptive filter construction. Matrices are useful for processing and displaying digital images. They can also be used to simulate and optimize wireless transmissions. Extraction and processing of information encoded in signal matrices are employed for detection. Signal estimation and detection problems rely heavily on matrices.\t\n",
        "\tMatrices are useful tools for resolving technological issues. Image processing, genetic research, and other relationships in measurements of qualities such as temperature and pressure are examples of practical applications of matrices. Matrices are also employed in graphics, where each pixel is represented by an element in a matrix, and decoding digital films is accomplished by multiplying matrices; researchers were able to develop video-coding circuits as a result of this finding. These can be accomplished by converting data and systems of equations into matrices and conducting operations on them to quickly calculate approximations to difficult issues.\n",
        "\tDuring the session, students were also able to understand and comprehend the many types of matrices and operations in the Python Programming Language. Students improve their knowledge and skills by writing two programs: one that defines the shape, size, and rank of a matrices and another that describes the viability of two matrices.\n"
      ],
      "metadata": {
        "id": "Nc9WPHj3uAfF"
      }
    }
  ]
}