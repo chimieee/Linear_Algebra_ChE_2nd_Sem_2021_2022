{
  "nbformat": 4,
  "nbformat_minor": 0,
  "metadata": {
    "colab": {
      "name": "Assignment 10",
      "provenance": [],
      "authorship_tag": "ABX9TyOLYww9yTInoLHMdRiy1oaX",
      "include_colab_link": true
    },
    "kernelspec": {
      "name": "python3",
      "display_name": "Python 3"
    },
    "language_info": {
      "name": "python"
    }
  },
  "cells": [
    {
      "cell_type": "markdown",
      "metadata": {
        "id": "view-in-github",
        "colab_type": "text"
      },
      "source": [
        "<a href=\"https://colab.research.google.com/github/chimieee/Linear_Algebra_ChE_2nd_Sem_2021_2022/blob/main/Assignment_10.ipynb\" target=\"_parent\"><img src=\"https://colab.research.google.com/assets/colab-badge.svg\" alt=\"Open In Colab\"/></a>"
      ]
    },
    {
      "cell_type": "code",
      "source": [
        "fegf"
      ],
      "metadata": {
        "id": "KYnzFpLQvClz"
      },
      "execution_count": null,
      "outputs": []
    }
  ]
}